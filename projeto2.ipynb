{
  "cells": [
    {
      "cell_type": "markdown",
      "metadata": {
        "id": "S84ZkCPNkrse"
      },
      "source": [
        "Para começar temos o temos o vídeo inicial chamado \"inicial.mp4\" e vou importar as bibliotecas.\n"
      ]
    },
    {
      "cell_type": "code",
      "execution_count": 28,
      "metadata": {
        "id": "f_nQZahzkq-F"
      },
      "outputs": [],
      "source": [
        "import moviepy.editor as mpe\n",
        "import numpy as np\n",
        "import matplotlib.pyplot as plt"
      ]
    },
    {
      "cell_type": "markdown",
      "metadata": {
        "id": "Ukhs6QqWlhY6"
      },
      "source": [
        "Vou abrir o vídeo no código e atrelar ele a uma váriavel."
      ]
    },
    {
      "cell_type": "code",
      "execution_count": 35,
      "metadata": {
        "id": "we31lDwwlpr8"
      },
      "outputs": [],
      "source": [
        "video = mpe.VideoFileClip(\"inicial.mp4\")"
      ]
    },
    {
      "cell_type": "markdown",
      "metadata": {
        "id": "S3sFx0A4lzg-"
      },
      "source": [
        "Agora vou fazer a função para inverter o vídeo no eixo a cada 20 segundos."
      ]
    },
    {
      "cell_type": "code",
      "execution_count": 36,
      "metadata": {
        "collapsed": true,
        "id": "T5j60RVCqN_Q"
      },
      "outputs": [],
      "source": [
        "def reflect_frame(get_frame, t):\n",
        "    frame = get_frame(t)\n",
        "    l, c, _ = frame.shape\n",
        "    mario_refl = np.zeros(shape=frame.shape, dtype=np.uint8)\n",
        "\n",
        "    for i in range(l):\n",
        "        for j in range(c):\n",
        "            new_x = c - j - 1\n",
        "            new_y = i\n",
        "            mario_refl[new_y, new_x] = frame[i, j]\n",
        "\n",
        "    return mario_refl\n",
        "video2 = video.fl(lambda get_frame, t: reflect_frame(get_frame, t) if int(t) % 20 == 0 else get_frame(t))"
      ]
    },
    {
      "cell_type": "markdown",
      "metadata": {
        "id": "ridyzPbft8Ay"
      },
      "source": [
        "Agora vou fazer os cortes no vídeo com subclip para colocar o segundo 60 < x < 80 ficar no final do final do vídeo"
      ]
    },
    {
      "cell_type": "code",
      "execution_count": 37,
      "metadata": {
        "collapsed": true,
        "id": "y6bHJi4-uEgl"
      },
      "outputs": [],
      "source": [
        "part1 = video4.subclip(0,60)\n",
        "part2 = video4.subclip(80)\n",
        "part3 = video4.subclip(60,80)\n",
        "final = mpe.concatenate_videoclips([part1, part2, part3])\n"
      ]
    },
    {
      "cell_type": "markdown",
      "metadata": {
        "id": "h9G21dhVsFnk"
      },
      "source": [
        "Agora vou criar a função de diminuir o volume do vídeo."
      ]
    },
    {
      "cell_type": "code",
      "execution_count": 38,
      "metadata": {
        "colab": {
          "base_uri": "https://localhost:8080/"
        },
        "id": "uU_qROcLsJPK",
        "collapsed": true,
        "outputId": "ac318568-afbd-40a4-f322-deab52f0c47c"
      },
      "outputs": [
        {
          "output_type": "stream",
          "name": "stderr",
          "text": [
            "\n",
            "\n",
            "t:  93%|█████████▎| 3109/3329 [01:47<00:06, 33.19it/s, now=None]\u001b[A\u001b[A\n",
            "\n",
            "t:  94%|█████████▎| 3113/3329 [01:47<00:06, 34.75it/s, now=None]\u001b[A\u001b[A\n",
            "\n",
            "t:  94%|█████████▎| 3117/3329 [01:47<00:06, 33.63it/s, now=None]\u001b[A\u001b[A\n",
            "\n",
            "t:  94%|█████████▍| 3121/3329 [01:47<00:06, 32.97it/s, now=None]\u001b[A\u001b[A\n",
            "\n",
            "t:  94%|█████████▍| 3125/3329 [01:47<00:06, 33.56it/s, now=None]\u001b[A\u001b[A\n",
            "\n",
            "t:  94%|█████████▍| 3129/3329 [01:47<00:06, 33.18it/s, now=None]\u001b[A\u001b[A\n",
            "\n",
            "t:  94%|█████████▍| 3133/3329 [01:48<00:06, 31.60it/s, now=None]\u001b[A\u001b[A\n",
            "\n",
            "t:  94%|█████████▍| 3137/3329 [01:48<00:06, 31.69it/s, now=None]\u001b[A\u001b[A\n",
            "\n",
            "t:  94%|█████████▍| 3141/3329 [01:48<00:05, 33.02it/s, now=None]\u001b[A\u001b[A\n",
            "\n",
            "t:  94%|█████████▍| 3145/3329 [01:48<00:05, 32.83it/s, now=None]\u001b[A\u001b[A\n",
            "\n",
            "t:  95%|█████████▍| 3149/3329 [01:48<00:05, 33.83it/s, now=None]\u001b[A\u001b[A\n",
            "\n",
            "t:  95%|█████████▍| 3153/3329 [01:48<00:05, 34.45it/s, now=None]\u001b[A\u001b[A\n",
            "\n",
            "t:  95%|█████████▍| 3157/3329 [01:48<00:05, 34.28it/s, now=None]\u001b[A\u001b[A\n",
            "\n",
            "t:  95%|█████████▍| 3161/3329 [01:48<00:04, 35.17it/s, now=None]\u001b[A\u001b[A\n",
            "\n",
            "t:  95%|█████████▌| 3165/3329 [01:48<00:04, 34.08it/s, now=None]\u001b[A\u001b[A\n",
            "\n",
            "t:  95%|█████████▌| 3169/3329 [01:49<00:05, 31.39it/s, now=None]\u001b[A\u001b[A\n",
            "\n",
            "t:  95%|█████████▌| 3173/3329 [01:49<00:04, 31.35it/s, now=None]\u001b[A\u001b[A\n",
            "\n",
            "t:  95%|█████████▌| 3177/3329 [01:49<00:04, 32.64it/s, now=None]\u001b[A\u001b[A\n",
            "\n",
            "t:  96%|█████████▌| 3181/3329 [01:49<00:04, 33.60it/s, now=None]\u001b[A\u001b[A\n",
            "\n",
            "t:  96%|█████████▌| 3185/3329 [01:49<00:04, 34.61it/s, now=None]\u001b[A\u001b[A\n",
            "\n",
            "t:  96%|█████████▌| 3189/3329 [01:49<00:04, 34.45it/s, now=None]\u001b[A\u001b[A\n",
            "\n",
            "t:  96%|█████████▌| 3193/3329 [01:49<00:03, 34.25it/s, now=None]\u001b[A\u001b[A\n",
            "\n",
            "t:  96%|█████████▌| 3197/3329 [01:49<00:03, 35.72it/s, now=None]\u001b[A\u001b[A\n",
            "\n",
            "t:  96%|█████████▌| 3201/3329 [01:50<00:03, 33.27it/s, now=None]\u001b[A\u001b[A\n",
            "\n",
            "t:  96%|█████████▋| 3205/3329 [01:50<00:03, 32.46it/s, now=None]\u001b[A\u001b[A\n",
            "\n",
            "t:  96%|█████████▋| 3209/3329 [01:50<00:03, 33.86it/s, now=None]\u001b[A\u001b[A\n",
            "\n",
            "t:  97%|█████████▋| 3213/3329 [01:50<00:03, 34.31it/s, now=None]\u001b[A\u001b[A\n",
            "\n",
            "t:  97%|█████████▋| 3217/3329 [01:50<00:03, 34.02it/s, now=None]\u001b[A\u001b[A\n",
            "\n",
            "t:  97%|█████████▋| 3221/3329 [01:50<00:03, 34.21it/s, now=None]\u001b[A\u001b[A\n",
            "\n",
            "t:  97%|█████████▋| 3225/3329 [01:50<00:03, 34.62it/s, now=None]\u001b[A\u001b[A\n",
            "\n",
            "t:  97%|█████████▋| 3229/3329 [01:50<00:02, 34.70it/s, now=None]\u001b[A\u001b[A\n",
            "\n",
            "t:  97%|█████████▋| 3233/3329 [01:50<00:02, 34.09it/s, now=None]\u001b[A\u001b[A\n",
            "\n",
            "t:  97%|█████████▋| 3237/3329 [01:51<00:02, 32.67it/s, now=None]\u001b[A\u001b[A\n",
            "\n",
            "t:  97%|█████████▋| 3241/3329 [01:51<00:02, 31.18it/s, now=None]\u001b[A\u001b[A\n",
            "\n",
            "t:  97%|█████████▋| 3245/3329 [01:51<00:02, 32.47it/s, now=None]\u001b[A\u001b[A\n",
            "\n",
            "t:  98%|█████████▊| 3249/3329 [01:51<00:02, 33.20it/s, now=None]\u001b[A\u001b[A\n",
            "\n",
            "t:  98%|█████████▊| 3253/3329 [01:51<00:02, 33.70it/s, now=None]\u001b[A\u001b[A\n",
            "\n",
            "t:  98%|█████████▊| 3257/3329 [01:51<00:02, 34.22it/s, now=None]\u001b[A\u001b[A\n",
            "\n",
            "t:  98%|█████████▊| 3261/3329 [01:51<00:01, 34.24it/s, now=None]\u001b[A\u001b[A\n",
            "\n",
            "t:  98%|█████████▊| 3265/3329 [01:51<00:01, 34.82it/s, now=None]\u001b[A\u001b[A\n",
            "\n",
            "t:  98%|█████████▊| 3269/3329 [01:52<00:01, 31.38it/s, now=None]\u001b[A\u001b[A\n",
            "\n",
            "t:  98%|█████████▊| 3273/3329 [01:52<00:01, 32.59it/s, now=None]\u001b[A\u001b[A\n",
            "\n",
            "t:  98%|█████████▊| 3277/3329 [01:52<00:01, 32.59it/s, now=None]\u001b[A\u001b[A\n",
            "\n",
            "t:  99%|█████████▊| 3281/3329 [01:52<00:01, 32.08it/s, now=None]\u001b[A\u001b[A\n",
            "\n",
            "t:  99%|█████████▊| 3285/3329 [01:52<00:01, 33.34it/s, now=None]\u001b[A\u001b[A\n",
            "\n",
            "t:  99%|█████████▉| 3289/3329 [01:52<00:01, 34.15it/s, now=None]\u001b[A\u001b[A\n",
            "\n",
            "t:  99%|█████████▉| 3293/3329 [01:52<00:01, 34.28it/s, now=None]\u001b[A\u001b[A\n",
            "\n",
            "t:  99%|█████████▉| 3297/3329 [01:52<00:00, 34.55it/s, now=None]\u001b[A\u001b[A\n",
            "\n",
            "t:  99%|█████████▉| 3301/3329 [01:53<00:00, 32.48it/s, now=None]\u001b[A\u001b[A\n",
            "\n",
            "t:  99%|█████████▉| 3305/3329 [01:53<00:00, 31.43it/s, now=None]\u001b[A\u001b[A\n",
            "\n",
            "t:  99%|█████████▉| 3309/3329 [01:53<00:00, 28.40it/s, now=None]\u001b[A\u001b[A\n",
            "\n",
            "t: 100%|█████████▉| 3314/3329 [01:53<00:00, 32.70it/s, now=None]\u001b[A\u001b[A\n",
            "\n",
            "t: 100%|█████████▉| 3318/3329 [01:53<00:00, 33.02it/s, now=None]\u001b[A\u001b[A\n",
            "\n",
            "t: 100%|█████████▉| 3322/3329 [01:53<00:00, 34.44it/s, now=None]\u001b[A\u001b[A\n",
            "\n",
            "t: 100%|█████████▉| 3326/3329 [01:53<00:00, 33.65it/s, now=None]\u001b[A\u001b[A\n",
            "\n",
            "\n",
            "\n",
            "\n",
            "\n",
            "\u001b[A\u001b[A\u001b[A\u001b[A\n",
            "t:   1%|          | 26/3329 [57:12<01:49, 30.14it/s, now=None]\n",
            "\n",
            "\n",
            "\n",
            "chunk:   0%|          | 1/2937 [29:12<1429:08:37, 1752.36s/it, now=None]\u001b[A\u001b[A\u001b[A\u001b[A\n",
            "\n",
            "\n",
            "\n",
            "\n",
            "\u001b[A\u001b[A\u001b[A\u001b[A\n",
            "t:   1%|          | 26/3329 [57:12<01:49, 30.14it/s, now=None]\n",
            "\n",
            "\n",
            "\n",
            "chunk:   0%|          | 1/2937 [29:12<1429:09:33, 1752.38s/it, now=None]\u001b[A\u001b[A\u001b[A\u001b[A\n",
            "t:   1%|          | 26/3329 [56:28<02:28, 22.20it/s, now=None]\u001b[A"
          ]
        },
        {
          "output_type": "stream",
          "name": "stdout",
          "text": [
            "Moviepy - Done !\n",
            "Moviepy - video ready final_certo.mp4\n"
          ]
        }
      ],
      "source": [
        "def decrease_audio(audio, t):\n",
        "    frame = audio(t)\n",
        "    # Calcula o fator de diminuição com base no tempo atual\n",
        "    duration = 133  # Duração total do vídeo em segundos\n",
        "    fade_out_time = t[0]  # Tempo atual do vídeo\n",
        "    factor = max(0, 1 - (fade_out_time / duration))  # Calcula o fator de diminuição progressiva\n",
        "    frame[:, 0] *= factor  # Aplica o fator de diminuição no canal esquerdo\n",
        "    frame[:, 1] *= factor  # Aplica o fator de diminuição no canal direito\n",
        "    return frame\n",
        "\n",
        "audio_decrease = final.audio.fl(decrease_audio)\n",
        "final_certo = final.set_audio(audio_decrease)\n",
        "\n",
        "final_certo.write_videofile('final_certo.mp4')"
      ]
    }
  ],
  "metadata": {
    "colab": {
      "provenance": []
    },
    "kernelspec": {
      "display_name": "Python 3",
      "name": "python3"
    },
    "language_info": {
      "name": "python"
    }
  },
  "nbformat": 4,
  "nbformat_minor": 0
}